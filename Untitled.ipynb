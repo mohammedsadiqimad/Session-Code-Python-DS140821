{
 "cells": [
  {
   "cell_type": "code",
   "execution_count": 1,
   "id": "e4495ccb",
   "metadata": {},
   "outputs": [],
   "source": [
    "class vehicle:\n",
    "    def __init__(self,color,brand,model,engine_type,capacity):\n",
    "        self.color = color\n",
    "        self.brand = brand\n",
    "        self.model = model\n",
    "        self.engine = engine_type\n",
    "        self.speed = 0\n",
    "        self.fuel = 0\n",
    "        self.capacity = capacity"
   ]
  },
  {
   "cell_type": "code",
   "execution_count": 4,
   "id": "7860bc25",
   "metadata": {},
   "outputs": [
    {
     "ename": "IndentationError",
     "evalue": "expected an indented block (Temp/ipykernel_13428/1771142963.py, line 4)",
     "output_type": "error",
     "traceback": [
      "\u001b[1;36m  File \u001b[1;32m\"C:\\Users\\MOHAMM~1\\AppData\\Local\\Temp/ipykernel_13428/1771142963.py\"\u001b[1;36m, line \u001b[1;32m4\u001b[0m\n\u001b[1;33m    \u001b[0m\n\u001b[1;37m    ^\u001b[0m\n\u001b[1;31mIndentationError\u001b[0m\u001b[1;31m:\u001b[0m expected an indented block\n"
     ]
    }
   ],
   "source": [
    "class scooter(vehicle):\n",
    "    def __init__(self,colour,brand,model,enginetype,capacity):\n",
    "        \n",
    "    "
   ]
  },
  {
   "cell_type": "code",
   "execution_count": null,
   "id": "9a4d3c40",
   "metadata": {},
   "outputs": [],
   "source": []
  },
  {
   "cell_type": "code",
   "execution_count": 32,
   "id": "c146385b",
   "metadata": {},
   "outputs": [],
   "source": [
    "\n",
    "class car:\n",
    "    def ignition(self):\n",
    "        self.speed = 0\n",
    "        print('Our Car is On')\n",
    "    def increaseSpeed(self):\n",
    "        self.speed += 10\n",
    "        print('Speed=',self.speed)\n",
    "   "
   ]
  },
  {
   "cell_type": "code",
   "execution_count": 33,
   "id": "7fc3c769",
   "metadata": {},
   "outputs": [],
   "source": [
    "indigo=car()"
   ]
  },
  {
   "cell_type": "code",
   "execution_count": 34,
   "id": "97dfbf02",
   "metadata": {},
   "outputs": [
    {
     "name": "stdout",
     "output_type": "stream",
     "text": [
      "Our Car is On\n"
     ]
    }
   ],
   "source": [
    "indigo.ignition()"
   ]
  },
  {
   "cell_type": "code",
   "execution_count": 35,
   "id": "4b7d982f",
   "metadata": {},
   "outputs": [],
   "source": [
    "ertiga=car()"
   ]
  },
  {
   "cell_type": "code",
   "execution_count": 36,
   "id": "c3ec425c",
   "metadata": {},
   "outputs": [
    {
     "name": "stdout",
     "output_type": "stream",
     "text": [
      "Speed= 10\n"
     ]
    }
   ],
   "source": [
    "indigo.increaseSpeed()"
   ]
  },
  {
   "cell_type": "code",
   "execution_count": 41,
   "id": "521a75f2",
   "metadata": {},
   "outputs": [
    {
     "name": "stdout",
     "output_type": "stream",
     "text": [
      "Our Car is On\n"
     ]
    }
   ],
   "source": [
    "ertiga.ignition()\n"
   ]
  },
  {
   "cell_type": "code",
   "execution_count": 39,
   "id": "e8e4ef4c",
   "metadata": {},
   "outputs": [
    {
     "name": "stdout",
     "output_type": "stream",
     "text": [
      "Speed= 10\n"
     ]
    }
   ],
   "source": [
    "ertiga.increaseSpeed()"
   ]
  },
  {
   "cell_type": "raw",
   "id": "64b169cd",
   "metadata": {},
   "source": [
    "indigo.increaseSpeed()"
   ]
  },
  {
   "cell_type": "code",
   "execution_count": 40,
   "id": "322ddace",
   "metadata": {},
   "outputs": [
    {
     "name": "stdout",
     "output_type": "stream",
     "text": [
      "Speed= 20\n"
     ]
    }
   ],
   "source": [
    "indigo.increaseSpeed()"
   ]
  },
  {
   "cell_type": "code",
   "execution_count": 59,
   "id": "a2014ea1",
   "metadata": {},
   "outputs": [],
   "source": [
    "class person:\n",
    "    def __init__(self,name,colour,age,gender):\n",
    "        self.name_of = name\n",
    "        self.colour = colour\n",
    "        self.age = age\n",
    "        self.gender = gender\n",
    "\n",
    "    def get_name(self):\n",
    "        return self.name_of\n",
    "    "
   ]
  },
  {
   "cell_type": "code",
   "execution_count": 64,
   "id": "09f16667",
   "metadata": {},
   "outputs": [],
   "source": [
    "sadiq = person('sadiq','fair',23,'male')"
   ]
  },
  {
   "cell_type": "code",
   "execution_count": 65,
   "id": "429175bc",
   "metadata": {},
   "outputs": [
    {
     "data": {
      "text/plain": [
       "'male'"
      ]
     },
     "execution_count": 65,
     "metadata": {},
     "output_type": "execute_result"
    }
   ],
   "source": [
    "sadiq.gender"
   ]
  },
  {
   "cell_type": "code",
   "execution_count": 66,
   "id": "5b6abc83",
   "metadata": {},
   "outputs": [
    {
     "data": {
      "text/plain": [
       "23"
      ]
     },
     "execution_count": 66,
     "metadata": {},
     "output_type": "execute_result"
    }
   ],
   "source": [
    "sadiq.age"
   ]
  },
  {
   "cell_type": "code",
   "execution_count": 68,
   "id": "4b429de9",
   "metadata": {},
   "outputs": [
    {
     "data": {
      "text/plain": [
       "'sadiq'"
      ]
     },
     "execution_count": 68,
     "metadata": {},
     "output_type": "execute_result"
    }
   ],
   "source": [
    "sadiq.name_of"
   ]
  },
  {
   "cell_type": "code",
   "execution_count": 69,
   "id": "23c58967",
   "metadata": {},
   "outputs": [
    {
     "data": {
      "text/plain": [
       "'fair'"
      ]
     },
     "execution_count": 69,
     "metadata": {},
     "output_type": "execute_result"
    }
   ],
   "source": [
    "sadiq.colour"
   ]
  },
  {
   "cell_type": "code",
   "execution_count": 70,
   "id": "93f5b347",
   "metadata": {},
   "outputs": [],
   "source": [
    "saif=person('saif','black',25,'male')"
   ]
  },
  {
   "cell_type": "code",
   "execution_count": 71,
   "id": "611a9bcf",
   "metadata": {},
   "outputs": [
    {
     "data": {
      "text/plain": [
       "25"
      ]
     },
     "execution_count": 71,
     "metadata": {},
     "output_type": "execute_result"
    }
   ],
   "source": [
    "saif.age"
   ]
  },
  {
   "cell_type": "code",
   "execution_count": 72,
   "id": "20ead698",
   "metadata": {},
   "outputs": [
    {
     "data": {
      "text/plain": [
       "'male'"
      ]
     },
     "execution_count": 72,
     "metadata": {},
     "output_type": "execute_result"
    }
   ],
   "source": [
    "saif.gender"
   ]
  },
  {
   "cell_type": "code",
   "execution_count": 89,
   "id": "f86c9517",
   "metadata": {},
   "outputs": [],
   "source": [
    "class car():\n",
    "    def __init__(self,name,colour,fuel_type,seater):\n",
    "        self.name_of_car = name\n",
    "        self.colour = colour \n",
    "        self.fuel_type= fuel_type\n",
    "        self.seater=seater\n",
    "        self.fuel=0\n",
    "        \n",
    "    def acceleration(self):\n",
    "        if self.fuel>0:\n",
    "            self.speed+= 10\n",
    "            self.fuel-= 0.001\n",
    "        else:\n",
    "            print('no fuel')\n",
    "            \n",
    "        "
   ]
  },
  {
   "cell_type": "code",
   "execution_count": 83,
   "id": "c7a39c35",
   "metadata": {},
   "outputs": [],
   "source": [
    "breeza =car('breeza','red','diesel',5)"
   ]
  },
  {
   "cell_type": "code",
   "execution_count": 84,
   "id": "3772399d",
   "metadata": {},
   "outputs": [
    {
     "data": {
      "text/plain": [
       "5"
      ]
     },
     "execution_count": 84,
     "metadata": {},
     "output_type": "execute_result"
    }
   ],
   "source": [
    "breeza.seater"
   ]
  },
  {
   "cell_type": "code",
   "execution_count": 85,
   "id": "48a31b4c",
   "metadata": {},
   "outputs": [
    {
     "data": {
      "text/plain": [
       "'red'"
      ]
     },
     "execution_count": 85,
     "metadata": {},
     "output_type": "execute_result"
    }
   ],
   "source": [
    "breeza.colour"
   ]
  },
  {
   "cell_type": "code",
   "execution_count": 90,
   "id": "f99fe299",
   "metadata": {},
   "outputs": [
    {
     "ename": "AttributeError",
     "evalue": "'car' object has no attribute 'acceleration'",
     "output_type": "error",
     "traceback": [
      "\u001b[1;31m---------------------------------------------------------------------------\u001b[0m",
      "\u001b[1;31mAttributeError\u001b[0m                            Traceback (most recent call last)",
      "\u001b[1;32mC:\\Users\\MOHAMM~1\\AppData\\Local\\Temp/ipykernel_13428/2005892090.py\u001b[0m in \u001b[0;36m<module>\u001b[1;34m\u001b[0m\n\u001b[1;32m----> 1\u001b[1;33m \u001b[0mbreeza\u001b[0m\u001b[1;33m.\u001b[0m\u001b[0macceleration\u001b[0m\u001b[1;33m(\u001b[0m\u001b[1;33m)\u001b[0m\u001b[1;33m\u001b[0m\u001b[1;33m\u001b[0m\u001b[0m\n\u001b[0m",
      "\u001b[1;31mAttributeError\u001b[0m: 'car' object has no attribute 'acceleration'"
     ]
    }
   ],
   "source": [
    "breeza.acceleration()"
   ]
  },
  {
   "cell_type": "code",
   "execution_count": null,
   "id": "4fc3c35c",
   "metadata": {},
   "outputs": [],
   "source": []
  }
 ],
 "metadata": {
  "kernelspec": {
   "display_name": "Python 3 (ipykernel)",
   "language": "python",
   "name": "python3"
  },
  "language_info": {
   "codemirror_mode": {
    "name": "ipython",
    "version": 3
   },
   "file_extension": ".py",
   "mimetype": "text/x-python",
   "name": "python",
   "nbconvert_exporter": "python",
   "pygments_lexer": "ipython3",
   "version": "3.9.6"
  }
 },
 "nbformat": 4,
 "nbformat_minor": 5
}
