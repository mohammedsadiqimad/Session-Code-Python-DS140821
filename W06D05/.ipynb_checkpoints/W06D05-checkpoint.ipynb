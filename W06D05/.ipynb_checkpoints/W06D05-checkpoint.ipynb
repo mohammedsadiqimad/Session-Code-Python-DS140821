{
 "cells": [
  {
   "cell_type": "code",
   "execution_count": null,
   "metadata": {},
   "outputs": [],
   "source": [
    "# My mic is not functional today for some time.\n",
    "\n",
    "# Q1) Find all the objects around you and name classes and their attributes and methods."
   ]
  },
  {
   "cell_type": "code",
   "execution_count": null,
   "metadata": {},
   "outputs": [],
   "source": [
    "# Class Attribute Vs Object Attribute"
   ]
  },
  {
   "cell_type": "code",
   "execution_count": 11,
   "metadata": {},
   "outputs": [],
   "source": [
    "class Person:\n",
    "    species = 'Homospaien' # Class Attributes.\n",
    "    # init method.\n",
    "    def __init__(self,name,eye_color,gender):\n",
    "        self.name_of_person = name\n",
    "        self.eye_color = eye_color\n",
    "        self.gender = gender\n",
    "        # here object Attributes are  name_of_person,eye_color,and gender.\n",
    "        \n",
    "    def get_name(self):\n",
    "        return self.name_of_person"
   ]
  },
  {
   "cell_type": "code",
   "execution_count": 12,
   "metadata": {},
   "outputs": [
    {
     "name": "stdout",
     "output_type": "stream",
     "text": [
      "Init is called!!\n"
     ]
    }
   ],
   "source": [
    "akshatha = Person('Akshatha','Brown','Female')\n",
    "ppareek = Person('Ppareek','Black',\"Male\")"
   ]
  },
  {
   "cell_type": "code",
   "execution_count": 13,
   "metadata": {},
   "outputs": [
    {
     "ename": "TypeError",
     "evalue": "__init__() takes 1 positional argument but 4 were given",
     "output_type": "error",
     "traceback": [
      "\u001b[1;31m---------------------------------------------------------------------------\u001b[0m",
      "\u001b[1;31mTypeError\u001b[0m                                 Traceback (most recent call last)",
      "\u001b[1;32m<ipython-input-13-981ceb43eef0>\u001b[0m in \u001b[0;36m<module>\u001b[1;34m\u001b[0m\n\u001b[1;32m----> 1\u001b[1;33m \u001b[0mppareek\u001b[0m \u001b[1;33m=\u001b[0m \u001b[0mPerson\u001b[0m\u001b[1;33m(\u001b[0m\u001b[1;34m'Ppareek'\u001b[0m\u001b[1;33m,\u001b[0m\u001b[1;34m'Black'\u001b[0m\u001b[1;33m,\u001b[0m\u001b[1;34m\"Male\"\u001b[0m\u001b[1;33m)\u001b[0m\u001b[1;33m\u001b[0m\u001b[1;33m\u001b[0m\u001b[0m\n\u001b[0m",
      "\u001b[1;31mTypeError\u001b[0m: __init__() takes 1 positional argument but 4 were given"
     ]
    }
   ],
   "source": [
    "ppareek = Person('Ppareek','Black',\"Male\")"
   ]
  },
  {
   "cell_type": "code",
   "execution_count": 14,
   "metadata": {},
   "outputs": [
    {
     "data": {
      "text/plain": [
       "'Akshatha'"
      ]
     },
     "execution_count": 14,
     "metadata": {},
     "output_type": "execute_result"
    }
   ],
   "source": [
    "akshatha.name_of_person"
   ]
  },
  {
   "cell_type": "code",
   "execution_count": 15,
   "metadata": {},
   "outputs": [
    {
     "data": {
      "text/plain": [
       "'Brown'"
      ]
     },
     "execution_count": 15,
     "metadata": {},
     "output_type": "execute_result"
    }
   ],
   "source": [
    "akshatha.eye_color"
   ]
  },
  {
   "cell_type": "code",
   "execution_count": 16,
   "metadata": {},
   "outputs": [
    {
     "data": {
      "text/plain": [
       "'Female'"
      ]
     },
     "execution_count": 16,
     "metadata": {},
     "output_type": "execute_result"
    }
   ],
   "source": [
    "akshatha.gender"
   ]
  },
  {
   "cell_type": "code",
   "execution_count": 17,
   "metadata": {},
   "outputs": [
    {
     "data": {
      "text/plain": [
       "'Ppareek'"
      ]
     },
     "execution_count": 17,
     "metadata": {},
     "output_type": "execute_result"
    }
   ],
   "source": [
    "ppareek.name_of_person"
   ]
  },
  {
   "cell_type": "code",
   "execution_count": 18,
   "metadata": {},
   "outputs": [
    {
     "data": {
      "text/plain": [
       "'Black'"
      ]
     },
     "execution_count": 18,
     "metadata": {},
     "output_type": "execute_result"
    }
   ],
   "source": [
    "ppareek.eye_color"
   ]
  },
  {
   "cell_type": "code",
   "execution_count": 19,
   "metadata": {},
   "outputs": [
    {
     "data": {
      "text/plain": [
       "'Male'"
      ]
     },
     "execution_count": 19,
     "metadata": {},
     "output_type": "execute_result"
    }
   ],
   "source": [
    "ppareek.gender"
   ]
  },
  {
   "cell_type": "code",
   "execution_count": 20,
   "metadata": {},
   "outputs": [
    {
     "data": {
      "text/plain": [
       "'Homospaien'"
      ]
     },
     "execution_count": 20,
     "metadata": {},
     "output_type": "execute_result"
    }
   ],
   "source": [
    "akshatha.species"
   ]
  },
  {
   "cell_type": "code",
   "execution_count": 21,
   "metadata": {},
   "outputs": [
    {
     "data": {
      "text/plain": [
       "'Homospaien'"
      ]
     },
     "execution_count": 21,
     "metadata": {},
     "output_type": "execute_result"
    }
   ],
   "source": [
    "ppareek.species"
   ]
  },
  {
   "cell_type": "code",
   "execution_count": 22,
   "metadata": {},
   "outputs": [
    {
     "data": {
      "text/plain": [
       "'Ppareek'"
      ]
     },
     "execution_count": 22,
     "metadata": {},
     "output_type": "execute_result"
    }
   ],
   "source": [
    "ppareek.get_name()"
   ]
  },
  {
   "cell_type": "code",
   "execution_count": 23,
   "metadata": {},
   "outputs": [],
   "source": [
    "ppareek.name_of_person = 'PARAG PARIKH FLEXICAP MUTUAL FUND'"
   ]
  },
  {
   "cell_type": "code",
   "execution_count": 24,
   "metadata": {},
   "outputs": [
    {
     "data": {
      "text/plain": [
       "'PARAG PARIKH FLEXICAP MUTUAL FUND'"
      ]
     },
     "execution_count": 24,
     "metadata": {},
     "output_type": "execute_result"
    }
   ],
   "source": [
    "ppareek.get_name()"
   ]
  },
  {
   "cell_type": "code",
   "execution_count": 53,
   "metadata": {},
   "outputs": [],
   "source": [
    "class car:\n",
    "    tyres = 4\n",
    "    def __init__(self,color,brand,model,engine_type):\n",
    "        self.color_of_car = color\n",
    "        self.brand_of_car = brand\n",
    "        self.model_of_car = model\n",
    "        self.engine_of_car = engine_type\n",
    "        self.speed = 0\n",
    "        self.fuel = 0\n",
    "        self.capacity = 35\n",
    "        \n",
    "#         Object Attributes=> color_of_car,brand_of_car,model_of_car,engine_of_car\n",
    "#         Class Attributes=> tyres\n",
    "\n",
    "    def accelerate(self):\n",
    "        if self.fuel>0:\n",
    "            self.speed+= 10\n",
    "            self.fuel-= 0.001\n",
    "        else:\n",
    "            print('No fuel left')\n",
    "        \n",
    "    def brake(self):\n",
    "        self.speed-=10\n",
    "        \n",
    "    def refuel(self,amount):\n",
    "        if self.capacity - self.fuel > amount:\n",
    "            self.fuel += amount\n",
    "        else:\n",
    "            print('Tank can not have this much fuel')\n",
    "        \n",
    "    def get_fuel(self):\n",
    "        return self.fuel\n",
    "    \n",
    "    def get_speed(self):\n",
    "        return self.speed\n",
    "    \n",
    "    # getter method => get_fuel,get_speed"
   ]
  },
  {
   "cell_type": "code",
   "execution_count": 54,
   "metadata": {},
   "outputs": [],
   "source": [
    "breeza = car('Grey','Maruti Suzuki','Vitara Breeza zxi','Petrol')"
   ]
  },
  {
   "cell_type": "code",
   "execution_count": 55,
   "metadata": {},
   "outputs": [],
   "source": [
    "ciaz = car('White','Maruti Suzuki','ciaz','Petrol')"
   ]
  },
  {
   "cell_type": "code",
   "execution_count": 56,
   "metadata": {},
   "outputs": [
    {
     "name": "stdout",
     "output_type": "stream",
     "text": [
      "Breeza= 0\n",
      "Ciaz= 0\n",
      "No fuel left\n",
      "No fuel left\n",
      "No fuel left\n",
      "No fuel left\n",
      "No fuel left\n",
      "Breeza= 50\n",
      "Ciaz= 90\n",
      "Ciaz Won!!\n"
     ]
    }
   ],
   "source": [
    "list_of_tokens = [1,2,2,3,4,5,6,6,7,7,8,9,10,11,11,12,13,14,14]\n",
    "print('Breeza=',breeza.speed)\n",
    "print('Ciaz=',ciaz.speed)\n",
    "breeza.refuel(0.005)\n",
    "ciaz.refuel(1)\n",
    "for no in list_of_tokens:\n",
    "    if no%2==0:\n",
    "        breeza.accelerate()\n",
    "    else:\n",
    "        ciaz.accelerate()\n",
    "print('Breeza=',breeza.speed)\n",
    "print('Ciaz=',ciaz.speed)\n",
    "if breeza.speed > ciaz.speed:\n",
    "    print('Breeza won!!')\n",
    "elif breeza.speed == ciaz.speed:\n",
    "    print('Draw')\n",
    "else:\n",
    "    print('Ciaz Won!!')"
   ]
  },
  {
   "cell_type": "code",
   "execution_count": null,
   "metadata": {},
   "outputs": [],
   "source": [
    "Arduno : Small MicroProcessor with which you can do small robotic tasks,\n",
    "    but generally with a programming language Arduno(similar to C Programming Language)\n",
    "    \n",
    "But if you connect an Arduno using the usb cable to a PC , Using the Serial class you can give comm\n",
    "ands to Arduno even using Python."
   ]
  },
  {
   "cell_type": "code",
   "execution_count": null,
   "metadata": {},
   "outputs": [],
   "source": [
    "Dustbin Separating Recylable Waste Vs Non Recylable Waste using Computer Vision."
   ]
  }
 ],
 "metadata": {
  "kernelspec": {
   "display_name": "Python 3",
   "language": "python",
   "name": "python3"
  },
  "language_info": {
   "codemirror_mode": {
    "name": "ipython",
    "version": 3
   },
   "file_extension": ".py",
   "mimetype": "text/x-python",
   "name": "python",
   "nbconvert_exporter": "python",
   "pygments_lexer": "ipython3",
   "version": "3.8.3"
  }
 },
 "nbformat": 4,
 "nbformat_minor": 4
}
