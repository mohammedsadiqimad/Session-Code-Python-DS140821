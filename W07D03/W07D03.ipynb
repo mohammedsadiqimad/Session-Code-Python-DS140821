{
 "cells": [
  {
   "cell_type": "code",
   "execution_count": null,
   "metadata": {},
   "outputs": [],
   "source": [
    "Object Oriented Programming:\n",
    "    Class: Blueprint\n",
    "        \n",
    "    Object: one of the copy of the class with some data.\n",
    "    \n",
    "    Attributes:Properties\n",
    "        Class Attributes: which is common for everyone.\n",
    "        Object Attributes: object have it's own copy of this attribute.\n",
    "            \n",
    "    Methods: Functions\n",
    "        Class Methods: @classmethod annotation, they are used to manipulate class attributes, cls\n",
    "        Object Methods: no annotation,they are used to manipulate object attributes, self\n",
    "                        Magic Methods (Dunder Methods) are also Object Methods.\n",
    "        Static Methods: @staticmethod annotation, they are not generally involved in work of \n",
    "            manipulating either class or object attribte. Neither cls , not self.        "
   ]
  },
  {
   "cell_type": "code",
   "execution_count": null,
   "metadata": {},
   "outputs": [],
   "source": [
    "# Inheritance"
   ]
  },
  {
   "cell_type": "code",
   "execution_count": 8,
   "metadata": {},
   "outputs": [],
   "source": [
    "class Animal:\n",
    "    def set_name(self,name):\n",
    "        self.name = 'Honourable ' + name\n",
    "    def set_weight(self,weight):\n",
    "        self.weight = weight\n",
    "    def set_height(self,height):\n",
    "        self.height = height\n",
    "    \n",
    "    def get_name(self):\n",
    "        return self.name\n",
    "    def get_weight(self):\n",
    "        return self.weight\n",
    "    def get_height(self):\n",
    "        return self.height\n",
    "    \n",
    "    def eat(self):\n",
    "        print(self.name, 'is eating')\n",
    "    def sleep(self):\n",
    "        print(self.name, 'is sleeping')\n",
    "    def run(self):\n",
    "        print(self.name, 'who have height= ',self.height, ' and weight = ',self.weight,' is running')"
   ]
  },
  {
   "cell_type": "code",
   "execution_count": 9,
   "metadata": {},
   "outputs": [],
   "source": [
    "# dog is inheriting Animal Class. All the properties and methods of Animal class will be available to\n",
    "# dog objects as if they are properties and methods of dog class only.\n",
    "class Dog(Animal):\n",
    "    def __init__(self,name,height,weight,breed):\n",
    "        super().set_name(name)\n",
    "        super().set_height(height)\n",
    "        super().set_weight(weight)\n",
    "        self.breed = breed"
   ]
  },
  {
   "cell_type": "code",
   "execution_count": 10,
   "metadata": {},
   "outputs": [],
   "source": [
    "yuki = Dog('YUKI SINGH CHOUHAN',50,25,'Labrador')"
   ]
  },
  {
   "cell_type": "code",
   "execution_count": 11,
   "metadata": {},
   "outputs": [
    {
     "data": {
      "text/plain": [
       "'Honourable YUKI SINGH CHOUHAN'"
      ]
     },
     "execution_count": 11,
     "metadata": {},
     "output_type": "execute_result"
    }
   ],
   "source": [
    "yuki.name"
   ]
  },
  {
   "cell_type": "code",
   "execution_count": 12,
   "metadata": {},
   "outputs": [],
   "source": [
    "tuffy = Dog('TUFFY Sharma',40,30,'pitbull')"
   ]
  },
  {
   "cell_type": "code",
   "execution_count": 13,
   "metadata": {},
   "outputs": [
    {
     "data": {
      "text/plain": [
       "'Honourable TUFFY Sharma'"
      ]
     },
     "execution_count": 13,
     "metadata": {},
     "output_type": "execute_result"
    }
   ],
   "source": [
    "tuffy.name"
   ]
  },
  {
   "cell_type": "code",
   "execution_count": 14,
   "metadata": {},
   "outputs": [
    {
     "name": "stdout",
     "output_type": "stream",
     "text": [
      "Honourable TUFFY Sharma is sleeping\n"
     ]
    }
   ],
   "source": [
    "tuffy.sleep()"
   ]
  },
  {
   "cell_type": "code",
   "execution_count": 15,
   "metadata": {},
   "outputs": [
    {
     "name": "stdout",
     "output_type": "stream",
     "text": [
      "Honourable TUFFY Sharma is eating\n"
     ]
    }
   ],
   "source": [
    "tuffy.eat()"
   ]
  },
  {
   "cell_type": "code",
   "execution_count": 16,
   "metadata": {},
   "outputs": [
    {
     "name": "stdout",
     "output_type": "stream",
     "text": [
      "Honourable YUKI SINGH CHOUHAN who have height=  50  and weight =  25  is running\n"
     ]
    }
   ],
   "source": [
    "yuki.run()"
   ]
  },
  {
   "cell_type": "code",
   "execution_count": 17,
   "metadata": {},
   "outputs": [
    {
     "data": {
      "text/plain": [
       "'Labrador'"
      ]
     },
     "execution_count": 17,
     "metadata": {},
     "output_type": "execute_result"
    }
   ],
   "source": [
    "yuki.breed"
   ]
  },
  {
   "cell_type": "code",
   "execution_count": 18,
   "metadata": {},
   "outputs": [
    {
     "data": {
      "text/plain": [
       "'pitbull'"
      ]
     },
     "execution_count": 18,
     "metadata": {},
     "output_type": "execute_result"
    }
   ],
   "source": [
    "tuffy.breed"
   ]
  },
  {
   "cell_type": "code",
   "execution_count": 19,
   "metadata": {},
   "outputs": [],
   "source": [
    "class Cat(Animal):\n",
    "    def __init__(self,name,height,weight,sound):\n",
    "        super().set_name(name)\n",
    "        super().set_height(height)\n",
    "        super().set_weight(weight)\n",
    "        self.sound = sound\n",
    "    def make_sound(self):\n",
    "        print(self.sound,' ++++')"
   ]
  },
  {
   "cell_type": "code",
   "execution_count": 20,
   "metadata": {},
   "outputs": [],
   "source": [
    "# Share Khan\n",
    "siri = Cat('Siri Khan',15,7,'sirieoww')\n",
    "spike = Cat('Spike Nayak',13,6,' koooo koooo')"
   ]
  },
  {
   "cell_type": "code",
   "execution_count": 21,
   "metadata": {},
   "outputs": [
    {
     "data": {
      "text/plain": [
       "'Honourable Siri Khan'"
      ]
     },
     "execution_count": 21,
     "metadata": {},
     "output_type": "execute_result"
    }
   ],
   "source": [
    "siri.name"
   ]
  },
  {
   "cell_type": "code",
   "execution_count": 22,
   "metadata": {},
   "outputs": [
    {
     "data": {
      "text/plain": [
       "'Honourable Siri Khan'"
      ]
     },
     "execution_count": 22,
     "metadata": {},
     "output_type": "execute_result"
    }
   ],
   "source": [
    "siri.get_name()"
   ]
  },
  {
   "cell_type": "code",
   "execution_count": 23,
   "metadata": {},
   "outputs": [
    {
     "data": {
      "text/plain": [
       "'Honourable Spike Nayak'"
      ]
     },
     "execution_count": 23,
     "metadata": {},
     "output_type": "execute_result"
    }
   ],
   "source": [
    "spike.get_name()"
   ]
  },
  {
   "cell_type": "code",
   "execution_count": 24,
   "metadata": {},
   "outputs": [
    {
     "name": "stdout",
     "output_type": "stream",
     "text": [
      " koooo koooo  ++++\n"
     ]
    }
   ],
   "source": [
    "spike.make_sound()"
   ]
  },
  {
   "cell_type": "code",
   "execution_count": 25,
   "metadata": {},
   "outputs": [
    {
     "name": "stdout",
     "output_type": "stream",
     "text": [
      "sirieoww  ++++\n"
     ]
    }
   ],
   "source": [
    "siri.make_sound()"
   ]
  },
  {
   "cell_type": "code",
   "execution_count": 26,
   "metadata": {},
   "outputs": [
    {
     "data": {
      "text/plain": [
       "13"
      ]
     },
     "execution_count": 26,
     "metadata": {},
     "output_type": "execute_result"
    }
   ],
   "source": [
    "spike.get_height()"
   ]
  },
  {
   "cell_type": "code",
   "execution_count": 27,
   "metadata": {},
   "outputs": [
    {
     "data": {
      "text/plain": [
       "15"
      ]
     },
     "execution_count": 27,
     "metadata": {},
     "output_type": "execute_result"
    }
   ],
   "source": [
    "siri.get_height()"
   ]
  },
  {
   "cell_type": "code",
   "execution_count": 28,
   "metadata": {},
   "outputs": [
    {
     "data": {
      "text/plain": [
       "7"
      ]
     },
     "execution_count": 28,
     "metadata": {},
     "output_type": "execute_result"
    }
   ],
   "source": [
    "siri.get_weight()"
   ]
  },
  {
   "cell_type": "code",
   "execution_count": 29,
   "metadata": {},
   "outputs": [
    {
     "name": "stdout",
     "output_type": "stream",
     "text": [
      "Honourable Siri Khan is eating\n"
     ]
    }
   ],
   "source": [
    "siri.eat()"
   ]
  },
  {
   "cell_type": "code",
   "execution_count": 30,
   "metadata": {},
   "outputs": [
    {
     "name": "stdout",
     "output_type": "stream",
     "text": [
      "Honourable Siri Khan who have height=  15  and weight =  7  is running\n"
     ]
    }
   ],
   "source": [
    "siri.run()"
   ]
  },
  {
   "cell_type": "code",
   "execution_count": 31,
   "metadata": {},
   "outputs": [
    {
     "name": "stdout",
     "output_type": "stream",
     "text": [
      "Honourable Spike Nayak who have height=  13  and weight =  6  is running\n"
     ]
    }
   ],
   "source": [
    "spike.run()"
   ]
  },
  {
   "cell_type": "code",
   "execution_count": 32,
   "metadata": {},
   "outputs": [],
   "source": [
    "spike.set_name(' Spike Mahanayak')"
   ]
  },
  {
   "cell_type": "code",
   "execution_count": 33,
   "metadata": {},
   "outputs": [
    {
     "data": {
      "text/plain": [
       "'Honourable  Spike Mahanayak'"
      ]
     },
     "execution_count": 33,
     "metadata": {},
     "output_type": "execute_result"
    }
   ],
   "source": [
    "spike.get_name()"
   ]
  },
  {
   "cell_type": "code",
   "execution_count": 34,
   "metadata": {},
   "outputs": [],
   "source": [
    "class vehicle:\n",
    "    def __init__(self,color,brand,model,engine_type,capacity):\n",
    "        self.color = color\n",
    "        self.brand = brand\n",
    "        self.model = model\n",
    "        self.engine = engine_type\n",
    "        self.speed = 0\n",
    "        self.fuel = 0\n",
    "        self.capacity = capacity\n",
    "        \n",
    "    def accelerate(self):\n",
    "        if self.fuel>0:\n",
    "            self.speed+= 10\n",
    "            self.fuel-= 0.001\n",
    "        else:\n",
    "            print('No fuel left')\n",
    "        \n",
    "    def brake(self):\n",
    "        self.speed-=10\n",
    "        \n",
    "    def refuel(self,amount):\n",
    "        if self.capacity - self.fuel > amount:\n",
    "            self.fuel += amount\n",
    "        else:\n",
    "            print('Tank can not have this much fuel')\n",
    "        \n",
    "    def get_fuel(self):\n",
    "        return self.fuel\n",
    "    \n",
    "    def get_speed(self):\n",
    "        return self.speed"
   ]
  },
  {
   "cell_type": "code",
   "execution_count": 35,
   "metadata": {},
   "outputs": [],
   "source": [
    "class scooter(vehicle):\n",
    "    def __init__(self,color,brand,model,engine_type,capacity,visor_color):\n",
    "        super().__init__(color,brand,model,engine_type,capacity)\n",
    "        self.visor_color = visor_color\n",
    "    \n",
    "    def open_dicky(self):\n",
    "        print('We found a yellow color helmet')"
   ]
  },
  {
   "cell_type": "code",
   "execution_count": 37,
   "metadata": {},
   "outputs": [],
   "source": [
    "ola_scooter = scooter('Yellow-Green','OLA','x101','Electric',450,'grey')"
   ]
  },
  {
   "cell_type": "code",
   "execution_count": 38,
   "metadata": {},
   "outputs": [],
   "source": [
    "ather_energy = scooter('White-Green','ATHER','450X','Electric',440,'transparent')"
   ]
  },
  {
   "cell_type": "code",
   "execution_count": 39,
   "metadata": {},
   "outputs": [
    {
     "name": "stdout",
     "output_type": "stream",
     "text": [
      "We found a yellow color helmet\n"
     ]
    }
   ],
   "source": [
    "ather_energy.open_dicky()"
   ]
  },
  {
   "cell_type": "code",
   "execution_count": 40,
   "metadata": {},
   "outputs": [
    {
     "name": "stdout",
     "output_type": "stream",
     "text": [
      "No fuel left\n"
     ]
    }
   ],
   "source": [
    "ola_scooter.accelerate()"
   ]
  },
  {
   "cell_type": "code",
   "execution_count": 41,
   "metadata": {},
   "outputs": [],
   "source": [
    "ola_scooter.refuel(100)"
   ]
  },
  {
   "cell_type": "code",
   "execution_count": 42,
   "metadata": {},
   "outputs": [],
   "source": [
    "ola_scooter.accelerate()"
   ]
  },
  {
   "cell_type": "code",
   "execution_count": 45,
   "metadata": {},
   "outputs": [
    {
     "data": {
      "text/plain": [
       "10"
      ]
     },
     "execution_count": 45,
     "metadata": {},
     "output_type": "execute_result"
    }
   ],
   "source": [
    "ola_scooter.speed"
   ]
  }
 ],
 "metadata": {
  "kernelspec": {
   "display_name": "Python 3",
   "language": "python",
   "name": "python3"
  },
  "language_info": {
   "codemirror_mode": {
    "name": "ipython",
    "version": 3
   },
   "file_extension": ".py",
   "mimetype": "text/x-python",
   "name": "python",
   "nbconvert_exporter": "python",
   "pygments_lexer": "ipython3",
   "version": "3.8.3"
  }
 },
 "nbformat": 4,
 "nbformat_minor": 4
}
