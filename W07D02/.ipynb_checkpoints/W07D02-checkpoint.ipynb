{
 "cells": [
  {
   "cell_type": "code",
   "execution_count": null,
   "metadata": {},
   "outputs": [],
   "source": [
    "Object Oriented Programming:\n",
    "    What is a Class?\n",
    "    => Class is like a blueprint\n",
    "    \n",
    "    What is a Object?\n",
    "    => Filled Copy of the Class\n",
    "    \n",
    "    Attributes (Properties which defines an Object)\n",
    "    Types of Attributes:-\n",
    "        1) Object Attributes\n",
    "        2) Class Attributes\n",
    "    Object Attributes:\n",
    "        -> They are unique for every object.\n",
    "        -> Every object have it's own copy of Object Attribute.\n",
    "        For example color attribute of car class. Here every car will have it's own color.\n",
    "        -> Since every object have it's own copy, we need to access them with the object reference,\n",
    "        which can be often named as self in Object Methods.\n",
    "    Class Attributes:\n",
    "        -> They are common for all the objects.\n",
    "        -> Every Object does not have it's own copy.\n",
    "        -> Since it is common , it is accessed with the Class Refrence generally, but can be accessed\n",
    "        with object reference as well.\n",
    "    \n",
    "    Methods (Another name of function which is used in OOP)\n",
    "    Types of Methods:-\n",
    "        1) Object Method\n",
    "        2) Class Method\n",
    "        \n",
    "    Object Method:\n",
    "        -> The first Parameter of the Object Method is going to take the Object Reference,\n",
    "        which is often named as self.\n",
    "        -> With the self keyword it will try to either return, modify or create Object Attributes.\n",
    "        -> No Annotation is used. \n",
    "    \n",
    "    __init__ Object Method:\n",
    "        -> Special Method which gets called if present whenever we create an Object of that class.\n",
    "        -> When we are creating objects we can pass arguments to the init function by giving all\n",
    "    the arguments in the parenthesis of the class name while creating object of it.\n",
    "        -> Init is not necessary.\n",
    "        \n",
    "    Class Method:\n",
    "        -> The first Parameter of the Class Method is going to take the Class Reference,\n",
    "        which is often named as cls.\n",
    "        -> With the cls keyword it will try to eiter return , modify or create Class Attributes.\n",
    "        -> @classmethod annotation before the class method. It is necessary to do this.\n",
    "        -> Whenever we have a requirement which is going to do something common for the whole class\n",
    "        than we will do it with class method."
   ]
  },
  {
   "cell_type": "code",
   "execution_count": 19,
   "metadata": {},
   "outputs": [],
   "source": [
    "class Student:\n",
    "    student_list = [] # class Attribute\n",
    "    total_marks = 300\n",
    "    fail_percentage = 33\n",
    "    # all the above 3 are class attributes\n",
    "    def __init__(self,name,roll_no):\n",
    "        self.name = name\n",
    "        self.roll_no = roll_no\n",
    "        self.marks = {'History':0,'Computer':0,'Quantum-Mechanics':0}\n",
    "        Student.student_list.append(self)\n",
    "    \n",
    "    def add_marks(self,marks):\n",
    "        print('Adding marks for student with roll no',self.roll_no)\n",
    "        self.marks = marks\n",
    "        self.percentage = (sum(self.marks.values())/Student.total_marks)*100\n",
    "        if self.percentage < Student.fail_percentage:\n",
    "            self.fail = True\n",
    "        else:\n",
    "            self.fail = False\n",
    "            \n",
    "    @classmethod\n",
    "    def find_topper(cls):\n",
    "        highest_percent = 0\n",
    "        current_topper = cls.student_list[0]\n",
    "        for student in cls.student_list:\n",
    "            if student.percentage > highest_percent:\n",
    "                highest_percent = student.percentage\n",
    "                current_topper = student\n",
    "        return current_topper"
   ]
  },
  {
   "cell_type": "code",
   "execution_count": 20,
   "metadata": {},
   "outputs": [],
   "source": [
    "mohdsumeer = Student('Mohd Sumeer',59)\n",
    "krishnakant = Student('KrishnaKant Verma',69)\n",
    "Talib = Student('Talib MF Hussain',79)\n",
    "Ak = Student('Aditya Kumar',34)"
   ]
  },
  {
   "cell_type": "code",
   "execution_count": 21,
   "metadata": {},
   "outputs": [
    {
     "name": "stdout",
     "output_type": "stream",
     "text": [
      "Adding marks for student with roll no 34\n",
      "Adding marks for student with roll no 79\n",
      "Adding marks for student with roll no 69\n",
      "Adding marks for student with roll no 59\n"
     ]
    }
   ],
   "source": [
    "Ak.add_marks({'History': 40, 'Computer': 100, 'Quantum-Mechanics': 99})\n",
    "Talib.add_marks({'History': 88, 'Computer': 80, 'Quantum-Mechanics': 49})\n",
    "krishnakant.add_marks({'History': 28, 'Computer': 10, 'Quantum-Mechanics': 19})\n",
    "mohdsumeer.add_marks({'History': 48, 'Computer': 10, 'Quantum-Mechanics': 9})"
   ]
  },
  {
   "cell_type": "code",
   "execution_count": 14,
   "metadata": {},
   "outputs": [],
   "source": [
    "topper = Student.find_topper()"
   ]
  },
  {
   "cell_type": "code",
   "execution_count": 15,
   "metadata": {},
   "outputs": [
    {
     "data": {
      "text/plain": [
       "'Aditya Kumar'"
      ]
     },
     "execution_count": 15,
     "metadata": {},
     "output_type": "execute_result"
    }
   ],
   "source": [
    "topper.name"
   ]
  },
  {
   "cell_type": "code",
   "execution_count": 16,
   "metadata": {},
   "outputs": [
    {
     "data": {
      "text/plain": [
       "34"
      ]
     },
     "execution_count": 16,
     "metadata": {},
     "output_type": "execute_result"
    }
   ],
   "source": [
    "topper.roll_no"
   ]
  },
  {
   "cell_type": "code",
   "execution_count": 17,
   "metadata": {},
   "outputs": [
    {
     "data": {
      "text/plain": [
       "{'History': 40, 'Computer': 100, 'Quantum-Mechanics': 99}"
      ]
     },
     "execution_count": 17,
     "metadata": {},
     "output_type": "execute_result"
    }
   ],
   "source": [
    "topper.marks"
   ]
  },
  {
   "cell_type": "code",
   "execution_count": 18,
   "metadata": {},
   "outputs": [
    {
     "data": {
      "text/plain": [
       "79.66666666666666"
      ]
     },
     "execution_count": 18,
     "metadata": {},
     "output_type": "execute_result"
    }
   ],
   "source": [
    "topper.percentage"
   ]
  },
  {
   "cell_type": "code",
   "execution_count": null,
   "metadata": {},
   "outputs": [],
   "source": [
    "3) Static Methods\n",
    "-> They are used by all the objects but without any object reference and without any class reference.\n",
    "-> It is generally used to do something which does not interfere with the Object or Class Attribute.\n",
    "-> The best way of understanding an Static Method is consider it as an normal function inside a class\n",
    "which you can used.\n",
    "-> @staticmethod annotation is used."
   ]
  },
  {
   "cell_type": "code",
   "execution_count": 23,
   "metadata": {},
   "outputs": [],
   "source": [
    "class Student:\n",
    "    student_list = [] # class Attribute\n",
    "    total_marks = 300\n",
    "    fail_percentage = 33\n",
    "    # all the above 3 are class attributes\n",
    "    def __init__(self,name,roll_no):\n",
    "        self.name = name\n",
    "        self.roll_no = roll_no\n",
    "        self.marks = {'History':0,'Computer':0,'Quantum-Mechanics':0}\n",
    "        Student.student_list.append(self)\n",
    "    \n",
    "    def add_marks(self,marks):\n",
    "        print('Adding marks for student with roll no',self.roll_no)\n",
    "        self.marks = marks\n",
    "        self.percentage = Student.finding_percentage(sum(self.marks.values()),Student.total_marks)\n",
    "        if self.percentage < Student.fail_percentage:\n",
    "            self.fail = True\n",
    "        else:\n",
    "            self.fail = False\n",
    "            \n",
    "    @classmethod\n",
    "    def find_topper(cls):\n",
    "        highest_percent = 0\n",
    "        current_topper = cls.student_list[0]\n",
    "        for student in cls.student_list:\n",
    "            if student.percentage > highest_percent:\n",
    "                highest_percent = student.percentage\n",
    "                current_topper = student\n",
    "        return current_topper\n",
    "    \n",
    "    @staticmethod\n",
    "    def finding_percentage(a,b):\n",
    "        return (a/b)*100"
   ]
  },
  {
   "cell_type": "code",
   "execution_count": 24,
   "metadata": {},
   "outputs": [],
   "source": [
    "mohdsumeer = Student('Mohd Sumeer',59)\n",
    "krishnakant = Student('KrishnaKant Verma',69)\n",
    "Talib = Student('Talib MF Hussain',79)\n",
    "Ak = Student('Aditya Kumar',34)"
   ]
  },
  {
   "cell_type": "code",
   "execution_count": 63,
   "metadata": {},
   "outputs": [
    {
     "name": "stdout",
     "output_type": "stream",
     "text": [
      "<__main__.Student object at 0x06470EC8>\n"
     ]
    }
   ],
   "source": [
    "print(mohdsumeer)"
   ]
  },
  {
   "cell_type": "code",
   "execution_count": 25,
   "metadata": {},
   "outputs": [
    {
     "name": "stdout",
     "output_type": "stream",
     "text": [
      "Adding marks for student with roll no 34\n",
      "Adding marks for student with roll no 79\n",
      "Adding marks for student with roll no 69\n",
      "Adding marks for student with roll no 59\n"
     ]
    }
   ],
   "source": [
    "Ak.add_marks({'History': 40, 'Computer': 100, 'Quantum-Mechanics': 99})\n",
    "Talib.add_marks({'History': 88, 'Computer': 80, 'Quantum-Mechanics': 49})\n",
    "krishnakant.add_marks({'History': 28, 'Computer': 10, 'Quantum-Mechanics': 19})\n",
    "mohdsumeer.add_marks({'History': 48, 'Computer': 10, 'Quantum-Mechanics': 9})"
   ]
  },
  {
   "cell_type": "code",
   "execution_count": 26,
   "metadata": {},
   "outputs": [],
   "source": [
    "topper = Student.find_topper()"
   ]
  },
  {
   "cell_type": "code",
   "execution_count": 27,
   "metadata": {},
   "outputs": [
    {
     "data": {
      "text/plain": [
       "79.66666666666666"
      ]
     },
     "execution_count": 27,
     "metadata": {},
     "output_type": "execute_result"
    }
   ],
   "source": [
    "topper.percentage"
   ]
  },
  {
   "cell_type": "code",
   "execution_count": null,
   "metadata": {},
   "outputs": [],
   "source": [
    "# What are various purpose for which we can find out percentage in the Student class. Consider the\n",
    "# real life scenario.\n",
    "-> For Final Percentage(Theory+Practical)\n",
    "-> Finding out Percentage(theory)\n",
    "-> Finding out Percentage(Practical)\n",
    "-> For What Percentage of Students got passed.\n",
    "-> For What Percentage of Students got failed.\n",
    "-> What percentage of student is present today in the class.\n",
    "-> What Percentage of student is already placed in companies.\n",
    "etc....\n",
    "\n",
    "def finding_percentage(a,b):\n",
    "    return (a/b)*100"
   ]
  },
  {
   "cell_type": "markdown",
   "metadata": {},
   "source": [
    "# Special Object Methods\n",
    "## -> Dunder Methods (Double Underscore)\n",
    "## -> Magic Methods\n",
    "## -> They are already defined and we can not change their names."
   ]
  },
  {
   "cell_type": "code",
   "execution_count": null,
   "metadata": {},
   "outputs": [],
   "source": [
    "Complex No: Real Part and Imaginary Part\n",
    "a + ib\n",
    "a is real part.\n",
    "b is imaginary part.\n",
    "\n",
    "c1 = 4 + i5\n",
    "c2 = 6 + i3\n",
    "\n",
    "c3 = c1 + c2? => 10 + i8"
   ]
  },
  {
   "cell_type": "code",
   "execution_count": 54,
   "metadata": {},
   "outputs": [],
   "source": [
    "class Complex:\n",
    "    def __init__(self,real,imag):\n",
    "        self.real = real\n",
    "        self.imag = imag\n",
    "        \n",
    "    def __add__(self,other):\n",
    "        print('In __add___')\n",
    "        return Complex(self.real+other.real, self.imag+other.imag)"
   ]
  },
  {
   "cell_type": "code",
   "execution_count": 55,
   "metadata": {},
   "outputs": [],
   "source": [
    "c1 = Complex(4,5)"
   ]
  },
  {
   "cell_type": "code",
   "execution_count": 56,
   "metadata": {},
   "outputs": [],
   "source": [
    "c2 = Complex(6,3)"
   ]
  },
  {
   "cell_type": "code",
   "execution_count": 57,
   "metadata": {},
   "outputs": [
    {
     "name": "stdout",
     "output_type": "stream",
     "text": [
      "In __add___\n"
     ]
    }
   ],
   "source": [
    "c3 = c1 + c2\n",
    "## c1 is calling special object method __add__ because there is a + operator used.\n",
    "## Whatever ther is after +, it will be considered as an argument to the __add__function.\n",
    "## In this case other is going to take c2's reference.\n",
    "## self is going to take c1's reference."
   ]
  },
  {
   "cell_type": "code",
   "execution_count": 58,
   "metadata": {},
   "outputs": [
    {
     "data": {
      "text/plain": [
       "(10, 8)"
      ]
     },
     "execution_count": 58,
     "metadata": {},
     "output_type": "execute_result"
    }
   ],
   "source": [
    "c3.real,c3.imag"
   ]
  },
  {
   "cell_type": "code",
   "execution_count": 59,
   "metadata": {},
   "outputs": [],
   "source": [
    "class Complex:\n",
    "    def __init__(self,real,imag):\n",
    "        self.real = real\n",
    "        self.imag = imag\n",
    "        \n",
    "    def __add__(self,other):\n",
    "        print('In __add___')\n",
    "        return Complex(self.real+other.real, self.imag+other.imag)\n",
    "    \n",
    "    def __sub__(self,other):\n",
    "        return Complex(self.real-other.real,self.imag-other.imag)\n",
    "    \n",
    "    def __neg__(self):\n",
    "        return Complex(-self.real,-self.imag)\n",
    "    \n",
    "    def __str__(self):\n",
    "        return str(self.real) + ' + i ' + str(self.imag)\n",
    "    \n",
    "    def __repr__(self):\n",
    "        return 'Complex ' + str(self)"
   ]
  },
  {
   "cell_type": "code",
   "execution_count": 60,
   "metadata": {},
   "outputs": [],
   "source": [
    "c1 = Complex(4,5)\n",
    "c2 = Complex(6,3)"
   ]
  },
  {
   "cell_type": "code",
   "execution_count": 61,
   "metadata": {},
   "outputs": [],
   "source": [
    "c3 = c2 - c1"
   ]
  },
  {
   "cell_type": "code",
   "execution_count": 62,
   "metadata": {},
   "outputs": [
    {
     "name": "stdout",
     "output_type": "stream",
     "text": [
      "2 + i -2\n"
     ]
    }
   ],
   "source": [
    "print(c3)"
   ]
  },
  {
   "cell_type": "code",
   "execution_count": 64,
   "metadata": {},
   "outputs": [
    {
     "data": {
      "text/plain": [
       "'2 + i -2'"
      ]
     },
     "execution_count": 64,
     "metadata": {},
     "output_type": "execute_result"
    }
   ],
   "source": [
    "str(c3)"
   ]
  },
  {
   "cell_type": "code",
   "execution_count": 65,
   "metadata": {},
   "outputs": [
    {
     "data": {
      "text/plain": [
       "Complex -2 + i 2"
      ]
     },
     "execution_count": 65,
     "metadata": {},
     "output_type": "execute_result"
    }
   ],
   "source": [
    "-c3"
   ]
  },
  {
   "cell_type": "code",
   "execution_count": 66,
   "metadata": {},
   "outputs": [
    {
     "data": {
      "text/plain": [
       "Complex -4 + i -5"
      ]
     },
     "execution_count": 66,
     "metadata": {},
     "output_type": "execute_result"
    }
   ],
   "source": [
    "-c1"
   ]
  },
  {
   "cell_type": "code",
   "execution_count": 67,
   "metadata": {},
   "outputs": [
    {
     "data": {
      "text/plain": [
       "'Complex 4 + i 5'"
      ]
     },
     "execution_count": 67,
     "metadata": {},
     "output_type": "execute_result"
    }
   ],
   "source": [
    "repr(c1)"
   ]
  },
  {
   "cell_type": "code",
   "execution_count": 68,
   "metadata": {},
   "outputs": [
    {
     "data": {
      "text/plain": [
       "'Complex 6 + i 3'"
      ]
     },
     "execution_count": 68,
     "metadata": {},
     "output_type": "execute_result"
    }
   ],
   "source": [
    "repr(c2)"
   ]
  },
  {
   "cell_type": "code",
   "execution_count": 69,
   "metadata": {},
   "outputs": [
    {
     "data": {
      "text/plain": [
       "'Complex 2 + i -2'"
      ]
     },
     "execution_count": 69,
     "metadata": {},
     "output_type": "execute_result"
    }
   ],
   "source": [
    "repr(c3)"
   ]
  },
  {
   "cell_type": "code",
   "execution_count": 70,
   "metadata": {},
   "outputs": [
    {
     "data": {
      "text/plain": [
       "Complex 2 + i -2"
      ]
     },
     "execution_count": 70,
     "metadata": {},
     "output_type": "execute_result"
    }
   ],
   "source": [
    "c3"
   ]
  },
  {
   "cell_type": "code",
   "execution_count": 74,
   "metadata": {},
   "outputs": [],
   "source": [
    "class Student:\n",
    "    student_list = [] # class Attribute\n",
    "    total_marks = 300\n",
    "    fail_percentage = 33\n",
    "    # all the above 3 are class attributes\n",
    "    def __init__(self,name,roll_no):\n",
    "        self.name = name\n",
    "        self.roll_no = roll_no\n",
    "        self.marks = {'History':0,'Computer':0,'Quantum-Mechanics':0}\n",
    "        Student.student_list.append(self)\n",
    "    \n",
    "    def add_marks(self,marks):\n",
    "        print('Adding marks for student with roll no',self.roll_no)\n",
    "        self.marks = marks\n",
    "        self.percentage = Student.finding_percentage(sum(self.marks.values()),Student.total_marks)\n",
    "        if self.percentage < Student.fail_percentage:\n",
    "            self.fail = True\n",
    "        else:\n",
    "            self.fail = False\n",
    "            \n",
    "    @classmethod\n",
    "    def find_topper(cls):\n",
    "        highest_percent = 0\n",
    "        current_topper = cls.student_list[0]\n",
    "        for student in cls.student_list:\n",
    "            if student.percentage > highest_percent:\n",
    "                highest_percent = student.percentage\n",
    "                current_topper = student\n",
    "        return current_topper\n",
    "    \n",
    "    @staticmethod\n",
    "    def finding_percentage(a,b):\n",
    "        return (a/b)*100\n",
    "    \n",
    "    def __repr__(self):\n",
    "        return 'Name:'+self.name+'\\nRoll No:'+str(self.roll_no)"
   ]
  },
  {
   "cell_type": "code",
   "execution_count": 75,
   "metadata": {},
   "outputs": [],
   "source": [
    "mohdsumeer = Student('Mohd Sumeer',59)\n",
    "krishnakant = Student('KrishnaKant Verma',69)\n",
    "Talib = Student('Talib MF Hussain',79)\n",
    "Ak = Student('Aditya Kumar',34)"
   ]
  },
  {
   "cell_type": "code",
   "execution_count": 76,
   "metadata": {},
   "outputs": [
    {
     "name": "stdout",
     "output_type": "stream",
     "text": [
      "Name:Mohd Sumeer\n",
      "Roll No:59\n"
     ]
    }
   ],
   "source": [
    "print(mohdsumeer)"
   ]
  },
  {
   "cell_type": "code",
   "execution_count": 77,
   "metadata": {},
   "outputs": [
    {
     "name": "stdout",
     "output_type": "stream",
     "text": [
      "Name:KrishnaKant Verma\n",
      "Roll No:69\n"
     ]
    }
   ],
   "source": [
    "print(krishnakant)"
   ]
  },
  {
   "cell_type": "code",
   "execution_count": 78,
   "metadata": {},
   "outputs": [
    {
     "name": "stdout",
     "output_type": "stream",
     "text": [
      "Name:Talib MF Hussain\n",
      "Roll No:79\n"
     ]
    }
   ],
   "source": [
    "print(Talib)"
   ]
  },
  {
   "cell_type": "code",
   "execution_count": 79,
   "metadata": {},
   "outputs": [
    {
     "data": {
      "text/plain": [
       "Name:Talib MF Hussain\n",
       "Roll No:79"
      ]
     },
     "execution_count": 79,
     "metadata": {},
     "output_type": "execute_result"
    }
   ],
   "source": [
    "Talib"
   ]
  },
  {
   "cell_type": "code",
   "execution_count": null,
   "metadata": {},
   "outputs": [],
   "source": []
  }
 ],
 "metadata": {
  "kernelspec": {
   "display_name": "Python 3",
   "language": "python",
   "name": "python3"
  },
  "language_info": {
   "codemirror_mode": {
    "name": "ipython",
    "version": 3
   },
   "file_extension": ".py",
   "mimetype": "text/x-python",
   "name": "python",
   "nbconvert_exporter": "python",
   "pygments_lexer": "ipython3",
   "version": "3.8.3"
  }
 },
 "nbformat": 4,
 "nbformat_minor": 4
}
